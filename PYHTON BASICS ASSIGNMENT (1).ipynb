{
 "cells": [
  {
   "cell_type": "code",
   "execution_count": null,
   "id": "1844618d-897d-45ad-9193-af5cf87ff6e6",
   "metadata": {},
   "outputs": [],
   "source": [
    "# THEORITICAL QUESTIONS \n",
    "#1. What is Python, and why is it popular ?\n",
    "# - Python is a programming language developed by Guido van Rossum.It is popular because of its versatility,simplicity,scalability.\n",
    "#   Also Python is free,easy to understand & it have a good ecosystem of libraries."
   ]
  },
  {
   "cell_type": "code",
   "execution_count": null,
   "id": "e26a67b7-2c62-4e4b-90b1-556ffd8659bc",
   "metadata": {},
   "outputs": [],
   "source": [
    "#2. What is an interpreter in Python ?\n",
    "# - Interpreter in Python is a program which executes python code line by line."
   ]
  },
  {
   "cell_type": "code",
   "execution_count": null,
   "id": "8e521ac7-82a8-4807-8d7d-b99bba55101e",
   "metadata": {},
   "outputs": [],
   "source": [
    "#3. What are pre-defined keywords in Python ?\n",
    "# - In python pre-defined keywords are reserved words that holds a special meaning and have specific purpose."
   ]
  },
  {
   "cell_type": "code",
   "execution_count": null,
   "id": "5a3c76ef-6757-46f9-b9b3-9eac41749a58",
   "metadata": {},
   "outputs": [],
   "source": [
    "#4. Can keywords be used as variable names ?\n",
    "# - No, keywords can't be used as variable names."
   ]
  },
  {
   "cell_type": "code",
   "execution_count": null,
   "id": "8ceef320-e902-479c-9737-83b5f4bf304e",
   "metadata": {},
   "outputs": [],
   "source": [
    "#5. What is mutability in Python ?\n",
    "# - Obects/Container whose value or state can be changed after they are created are called as mutable objexts/Container and this concept is known as #mutability."
   ]
  },
  {
   "cell_type": "code",
   "execution_count": null,
   "id": "0172493a-6f3b-4bba-b367-47e155301acf",
   "metadata": {},
   "outputs": [],
   "source": [
    "#6.Why are lists mutable, but tuples are immutable ?\n",
    "# - lists are mutable because they are made so that we can do modification in them and take results my manipulating data.\n",
    "#   Also tuples are desinged as so that we can not do operations on them.e.g. employees data,aadhar no. data "
   ]
  },
  {
   "cell_type": "code",
   "execution_count": null,
   "id": "f4b20a4d-3928-466c-9f4e-fd9d6b40a34d",
   "metadata": {},
   "outputs": [],
   "source": [
    "#7. What is the difference between “==” and “is” operators in Python ?\n",
    "# - “==”Operator is for Value Equality.It Compares the values of two objects and returns True if the values are the same, regardless of whether they are the same object in memory. This is used with numbers, strings, lists, etc.\n",
    "#   \"is\" Operator is for Identity Equality. It Compares the memory location of two objects and returns True only if both variables point to the same object (same identity). It Useful for checking if two variables refer to exactly the same instance."
   ]
  },
  {
   "cell_type": "code",
   "execution_count": null,
   "id": "a5b43acc-2fb4-4c89-a10c-c7b519eebf56",
   "metadata": {},
   "outputs": [],
   "source": [
    "#8. What are logical operators in Python?\n",
    "# - Logical operators(AND, OR, NOT) are used to combine multiple conditions and perform Boolean logic. They return either True or False based on the  logic applied to the operands."
   ]
  },
  {
   "cell_type": "code",
   "execution_count": null,
   "id": "2caa8ff9-b19a-44dc-885e-123f0a20f45c",
   "metadata": {},
   "outputs": [],
   "source": [
    "#9.What is type casting in Python ?\n",
    "#- Type casting is the process of changing the data type of a value/object.this is of two types \n",
    "  "
   ]
  },
  {
   "cell_type": "code",
   "execution_count": null,
   "id": "f39d2a9d-c2cc-4af8-a4e7-5c13787d77ab",
   "metadata": {},
   "outputs": [],
   "source": [
    "#10. What is the difference between implicit and explicit type casting?\n",
    "# - Implicit type casting>> it refers to automatic conversion of one type of data to another . i.e. 2+2=4,2+3.5=5.5\n",
    "#  Explicit type casting>> in this type programmer intentionally converts data from one type to another using specific built in functions.\n",
    "#                         i.e. int(),str() etc."
   ]
  },
  {
   "cell_type": "code",
   "execution_count": null,
   "id": "6cf995bb-a5de-47f2-8df3-233a27891986",
   "metadata": {},
   "outputs": [],
   "source": [
    "#11. What is the purpose of conditional statements in Python ?\n",
    "# - The purpose of conditional statements in Python is to control the flow of a progarm based on specific conditions.They do decision making in the code,allowing different blocks to be ececuted only when certain criteria will met."
   ]
  },
  {
   "cell_type": "code",
   "execution_count": null,
   "id": "a136f739-4afe-4364-bc39-e1e2c01bcc1b",
   "metadata": {},
   "outputs": [],
   "source": [
    "#12. How does the elif statement work ?\n",
    "#  - In Python, the elif statement stands for \"else if\". It allows you to check multiple conditions after an initial if condition. This helps control decision-making when there are several possible options.\n",
    "#   How elif Works\n",
    "#  > The program checks the if condition first.\n",
    "#  >If it is False, then it checks the elif condition.\n",
    " # >If none of the if or elif conditions are true, the else block is executed .\n"
   ]
  },
  {
   "cell_type": "code",
   "execution_count": null,
   "id": "b4393afc-a9e2-421a-a2e1-1512be98f204",
   "metadata": {},
   "outputs": [],
   "source": [
    "#13. What is the difference between for and while loops ?\n",
    "# - Loops in Python are used to execute a block of code repeatedly.\n",
    "#  >for Loop is used  for Iteration Over a Sequence .\n",
    "#  >while loop execute based on the condition ."
   ]
  },
  {
   "cell_type": "code",
   "execution_count": null,
   "id": "d8ef76e8-fab3-4f6a-91b0-9560c8b1ce0b",
   "metadata": {},
   "outputs": [],
   "source": [
    "#14. Describe a scenario where a while loop is more suitable than a for loop.\n",
    "correct_password = \"vinay123\"\n",
    "user_input = input(\"Enter password: \")\n",
    "\n",
    "while user_input != correct_password:\n",
    "    print(\"Incorrect password. Try again.\")\n",
    "    user_input = input(\"Enter password: \")\n",
    "\n",
    "print(\"Access granted.\")"
   ]
  },
  {
   "cell_type": "code",
   "execution_count": 1,
   "id": "cddf7a62-b5e1-46b6-bb04-ae782f0a6473",
   "metadata": {},
   "outputs": [
    {
     "name": "stdout",
     "output_type": "stream",
     "text": [
      "Hello, World!\n"
     ]
    }
   ],
   "source": [
    "# PRACTICAL QUESTIONS \n",
    "#1. Write a Python program to print \"Hello, World!\"\n",
    "print(\"Hello, World!\")"
   ]
  },
  {
   "cell_type": "code",
   "execution_count": 4,
   "id": "a9372816-32b1-48ee-a48d-4d06623d9263",
   "metadata": {},
   "outputs": [
    {
     "name": "stdout",
     "output_type": "stream",
     "text": [
      "My name is Vinay\n",
      "I am 20 years old.\n"
     ]
    }
   ],
   "source": [
    "#2.Write a Python program that displays your name and age.\n",
    "name = \"Vinay\"\n",
    "age = 20\n",
    "print(\"My name is\", name)\n",
    "print(\"I am\", age,\"years old.\")\n"
   ]
  },
  {
   "cell_type": "code",
   "execution_count": 6,
   "id": "2f82ca90-41cf-4ad3-adc1-bdca48f8b493",
   "metadata": {},
   "outputs": [
    {
     "name": "stdout",
     "output_type": "stream",
     "text": [
      "\n",
      "Here is a list of the Python keywords.  Enter any keyword to get more help.\n",
      "\n",
      "False               class               from                or\n",
      "None                continue            global              pass\n",
      "True                def                 if                  raise\n",
      "and                 del                 import              return\n",
      "as                  elif                in                  try\n",
      "assert              else                is                  while\n",
      "async               except              lambda              with\n",
      "await               finally             nonlocal            yield\n",
      "break               for                 not                 \n",
      "\n"
     ]
    }
   ],
   "source": [
    "#3. Write code to print all the pre-defined keywords in Python using the keyword library.\n",
    "help('keywords')"
   ]
  },
  {
   "cell_type": "code",
   "execution_count": 9,
   "id": "06df74cf-788b-4b0f-b816-c7244c1efdd4",
   "metadata": {},
   "outputs": [
    {
     "name": "stdin",
     "output_type": "stream",
     "text": [
      "Enter a word to check if it's a Python keyword:  jai baba ki\n"
     ]
    },
    {
     "name": "stdout",
     "output_type": "stream",
     "text": [
      "❌ 'jai baba ki' is NOT a Python keyword.\n"
     ]
    }
   ],
   "source": [
    "#4. Write a program that checks if a given word is a Python keyword.\n",
    "import keyword\n",
    "\n",
    "# Get input from the user\n",
    "word = input(\"Enter a word to check if it's a Python keyword: \")\n",
    "\n",
    "# Check if the word is a keyword\n",
    "if keyword.iskeyword(word):\n",
    "    print(f\"✅ '{word}' is a Python keyword.\")\n",
    "else:\n",
    "    print(f\"❌ '{word}' is NOT a Python keyword.\")"
   ]
  },
  {
   "cell_type": "code",
   "execution_count": 10,
   "id": "8cbb376e-0f5b-4d87-bf43-7a6bffcf5e3b",
   "metadata": {},
   "outputs": [
    {
     "name": "stdout",
     "output_type": "stream",
     "text": [
      "Updated List: [10, 99, 30]\n",
      "❌ Error updating tuple: 'tuple' object does not support item assignment\n"
     ]
    }
   ],
   "source": [
    "#5 Create a list and tuple in Python, and demonstrate how attempting to change an element works differently\n",
    "#for each.\n",
    "# Creating a list and a tuple\n",
    "my_list = [10, 20, 30]\n",
    "my_tuple = (10, 20, 30)\n",
    "\n",
    "# Changing an element in the list\n",
    "my_list[1] = 99  # This works because lists are mutable\n",
    "print(\"Updated List:\", my_list)\n",
    "\n",
    "# Attempting to change an element in the tuple\n",
    "try:\n",
    "    my_tuple[1] = 99  # This will raise an error because tuples are immutable\n",
    "except TypeError as e:\n",
    "    print(\"❌ Error updating tuple:\", e)"
   ]
  },
  {
   "cell_type": "code",
   "execution_count": 11,
   "id": "2302ecfc-dcc5-481a-b136-fd354e04e011",
   "metadata": {},
   "outputs": [
    {
     "name": "stdout",
     "output_type": "stream",
     "text": [
      "Inside function:\n",
      "Number: 15\n",
      "List: [1, 2, 3, 100]\n",
      "\n",
      "Outside function:\n",
      "Number: 5\n",
      "List: [1, 2, 3, 100]\n"
     ]
    }
   ],
   "source": [
    "#6 Write a function to demonstrate the behavior of mutable and immutable arguments.\n",
    "# Function to modify the arguments\n",
    "def modify_arguments(num, num_list):\n",
    "    num += 10            # Immutable: integer (int)\n",
    "    num_list.append(100) # Mutable: list\n",
    "\n",
    "    print(\"Inside function:\")\n",
    "    print(\"Number:\", num)\n",
    "    print(\"List:\", num_list)\n",
    "\n",
    "# Original values\n",
    "original_num = 5\n",
    "original_list = [1, 2, 3]\n",
    "\n",
    "# Call the function\n",
    "modify_arguments(original_num, original_list)\n",
    "\n",
    "print(\"\\nOutside function:\")\n",
    "print(\"Number:\", original_num)    # Unchanged, because integers are immutable\n",
    "print(\"List:\", original_list)     # Changed, because lists are mutable"
   ]
  },
  {
   "cell_type": "code",
   "execution_count": 12,
   "id": "667da31e-21e9-496d-b9c8-00919a7d702b",
   "metadata": {},
   "outputs": [
    {
     "name": "stdin",
     "output_type": "stream",
     "text": [
      "Enter the first number:  55\n",
      "Enter the second number:  67\n"
     ]
    },
    {
     "name": "stdout",
     "output_type": "stream",
     "text": [
      "Addition: 122.0\n",
      "Subtraction: -12.0\n",
      "Multiplication: 3685.0\n",
      "Division: 0.8208955223880597\n"
     ]
    }
   ],
   "source": [
    "#7 Write a program that performs basic arithmetic operations on two user-input numbers.\n",
    "# Program to perform basic arithmetic operations\n",
    "\n",
    "# Get user input\n",
    "num1 = float(input(\"Enter the first number: \"))\n",
    "num2 = float(input(\"Enter the second number: \"))\n",
    "\n",
    "# Perform arithmetic operations\n",
    "print(\"Addition:\", num1 + num2)\n",
    "print(\"Subtraction:\", num1 - num2)\n",
    "print(\"Multiplication:\", num1 * num2)\n",
    "\n",
    "# Handle division safely\n",
    "if num2 != 0:\n",
    "    print(\"Division:\", num1 / num2)\n",
    "else:\n",
    "    print(\"Division: ❌ Cannot divide by zero\")"
   ]
  },
  {
   "cell_type": "code",
   "execution_count": 13,
   "id": "4fdeb6f4-a8b7-4ed3-bd58-33df111590e9",
   "metadata": {},
   "outputs": [
    {
     "name": "stdout",
     "output_type": "stream",
     "text": [
      "a and b: False\n",
      "a or b: True\n",
      "not a: False\n",
      "not b: True\n"
     ]
    }
   ],
   "source": [
    "#8 Write a program to demonstrate the use of logical operators.\n",
    "# Basic program to demonstrate logical operators\n",
    "\n",
    "# Variables\n",
    "a = True\n",
    "b = False\n",
    "\n",
    "# Logical AND\n",
    "print(\"a and b:\", a and b)   # False because both are not True\n",
    "\n",
    "# Logical OR\n",
    "print(\"a or b:\", a or b)     # True because at least one is True\n",
    "\n",
    "# Logical NOT\n",
    "print(\"not a:\", not a)       # False because 'a' is True\n",
    "print(\"not b:\", not b)       # True because 'b' is False"
   ]
  },
  {
   "cell_type": "code",
   "execution_count": 18,
   "id": "8fd39a7c-e219-40cb-854d-7d1fe7d45092",
   "metadata": {},
   "outputs": [
    {
     "name": "stdin",
     "output_type": "stream",
     "text": [
      "Enter a value:  3.3\n"
     ]
    },
    {
     "name": "stdout",
     "output_type": "stream",
     "text": [
      "Integer conversion: 3.3\n",
      "Float conversion: 3.3\n",
      "Boolean conversion: True\n"
     ]
    }
   ],
   "source": [
    "#9 Write a Python program to convert user input from string to integer, float, and boolean types.\n",
    "# Program to convert user input into different data types\n",
    "\n",
    "# Get input from user\n",
    "user_input = input(\"Enter a value: \")\n",
    "\n",
    "# Convert to integer\n",
    "try:\n",
    "    int_value = str(user_input)\n",
    "    print(\"Integer conversion:\", str\n",
    "        (int_value))\n",
    "except ValueError:\n",
    "    print(\"❌ Cannot convert to Integer.\")\n",
    "\n",
    "# Convert to float\n",
    "try:\n",
    "    float_value = float(user_input)\n",
    "    print(\"Float conversion:\", float_value)\n",
    "except ValueError:\n",
    "    print(\"❌ Cannot convert to Float.\")\n",
    "\n",
    "# Convert to boolean\n",
    "bool_value = bool(user_input)\n",
    "print(\"Boolean conversion:\", bool_value)"
   ]
  },
  {
   "cell_type": "code",
   "execution_count": 27,
   "id": "affdda24-ab8e-41e3-8689-b4047bfd2f48",
   "metadata": {},
   "outputs": [
    {
     "name": "stdout",
     "output_type": "stream",
     "text": [
      "Original (string): ['1', '2', '3', '4', '5']\n",
      "To integers: [1, 2, 3, 4, 5]\n",
      "To floats: [1.0, 2.0, 3.0, 4.0, 5.0]\n",
      "Back to strings: ['1.0', '2.0', '3.0', '4.0', '5.0']\n"
     ]
    }
   ],
   "source": [
    "#10 Write code to demonstrate type casting with list elements.\n",
    "# List of string numbers\n",
    "string_list = ['1', '2', '3', '4', '5']\n",
    "\n",
    "# Convert string to integer\n",
    "int_list = []\n",
    "for item in string_list:\n",
    "    int_list.append(int(item))\n",
    "\n",
    "# Convert integer to float\n",
    "float_list = []\n",
    "for item in int_list:\n",
    "    float_list.append(float(item))\n",
    "\n",
    "# Convert float to string again\n",
    "converted_back = []\n",
    "for item in float_list:\n",
    "    converted_back.append(str(item))\n",
    "\n",
    "# Display results\n",
    "print(\"Original (string):\", string_list)\n",
    "print(\"To integers:\", int_list)\n",
    "print(\"To floats:\", float_list)\n",
    "print(\"Back to strings:\", converted_back)"
   ]
  },
  {
   "cell_type": "code",
   "execution_count": 20,
   "id": "619befc0-1e9b-423d-a31f-a9def8f9047a",
   "metadata": {},
   "outputs": [
    {
     "name": "stdin",
     "output_type": "stream",
     "text": [
      "Enter a number:  -5\n"
     ]
    },
    {
     "name": "stdout",
     "output_type": "stream",
     "text": [
      "The number is negative.\n"
     ]
    }
   ],
   "source": [
    "#11  Write a program that checks if a number is positive, negative, or zero.\n",
    "# Program to check if a number is positive, negative, or zero\n",
    "\n",
    "# Get user input\n",
    "number = float(input(\"Enter a number: \"))\n",
    "\n",
    "# Check the condition\n",
    "if number > 0:\n",
    "    print(\"The number is positive.\")\n",
    "elif number < 0:\n",
    "    print(\"The number is negative.\")\n",
    "else:\n",
    "    print(\"The number is zero.\")"
   ]
  },
  {
   "cell_type": "code",
   "execution_count": 21,
   "id": "41e19393-4b23-44db-8dfa-ec623b7f3876",
   "metadata": {},
   "outputs": [
    {
     "name": "stdout",
     "output_type": "stream",
     "text": [
      "1\n",
      "2\n",
      "3\n",
      "4\n",
      "5\n",
      "6\n",
      "7\n",
      "8\n",
      "9\n",
      "10\n"
     ]
    }
   ],
   "source": [
    "#12.Write a for loop to print numbers from 1 to 10.\n",
    "# Program to print numbers from 1 to 10 using a for loop\n",
    "\n",
    "for i in range(1, 11):\n",
    "    print(i)"
   ]
  },
  {
   "cell_type": "code",
   "execution_count": 22,
   "id": "47f1b22d-2a70-4b0a-a4be-f58d55b842bc",
   "metadata": {},
   "outputs": [
    {
     "name": "stdout",
     "output_type": "stream",
     "text": [
      "The sum of all even numbers from 1 to 50 is: 650\n"
     ]
    }
   ],
   "source": [
    "#13.Write a Python program to find the sum of all even numbers between 1 and 50.\n",
    "# Program to find the sum of all even numbers between 1 and 50\n",
    "\n",
    "total = 0\n",
    "for num in range(2, 51, 2):  # Start at 2, go to 50, step by 2\n",
    "    total += num\n",
    "\n",
    "print(\"The sum of all even numbers from 1 to 50 is:\", total)"
   ]
  },
  {
   "cell_type": "code",
   "execution_count": 24,
   "id": "b09cb21d-d1b6-451e-b7fb-0240efb0b9c9",
   "metadata": {},
   "outputs": [
    {
     "name": "stdin",
     "output_type": "stream",
     "text": [
      "Enter a string:  Vinay\n"
     ]
    },
    {
     "name": "stdout",
     "output_type": "stream",
     "text": [
      "Reversed string: yaniV\n"
     ]
    }
   ],
   "source": [
    "#14.Write a program to reverse a string using a while loop.\n",
    "# Program to reverse a string using a while loop\n",
    "\n",
    "# Get user input\n",
    "text = input(\"Enter a string: \")\n",
    "\n",
    "# Initialize variables\n",
    "reversed_text = \"\"\n",
    "index = len(text) - 1\n",
    "\n",
    "# Loop through the string in reverse\n",
    "while index >= 0:\n",
    "    reversed_text += text[index]\n",
    "    index -= 1\n",
    "\n",
    "print(\"Reversed string:\", reversed_text)"
   ]
  },
  {
   "cell_type": "code",
   "execution_count": 26,
   "id": "8e300774-cbcf-4218-a0e1-7460154f4cd7",
   "metadata": {},
   "outputs": [
    {
     "name": "stdin",
     "output_type": "stream",
     "text": [
      "Enter a non-negative integer:  2\n"
     ]
    },
    {
     "name": "stdout",
     "output_type": "stream",
     "text": [
      "The factorial of 2 is 2.\n"
     ]
    }
   ],
   "source": [
    "#15.Write a Python program to calculate the factorial of a number provided by the user using a while loop.\n",
    "# Program to calculate factorial using a while loop\n",
    "\n",
    "# Get user input\n",
    "num = int(input(\"Enter a non-negative integer: \"))\n",
    "factorial = 1\n",
    "i = 1\n",
    "\n",
    "# Check if the number is valid\n",
    "if num < 0:\n",
    "    print(\"Sorry, factorial does not exist for negative numbers.\")\n",
    "elif num == 0:\n",
    "    print(\"The factorial of 0 is 1.\")\n",
    "else:\n",
    "    while i <= num:\n",
    "        factorial *= i\n",
    "        i += 1\n",
    "    print(f\"The factorial of {num} is {factorial}.\")\n"
   ]
  },
  {
   "cell_type": "code",
   "execution_count": null,
   "id": "2d5142ad-a474-4001-9449-9b9b23046253",
   "metadata": {},
   "outputs": [],
   "source": []
  }
 ],
 "metadata": {
  "kernelspec": {
   "display_name": "Python [conda env:base] *",
   "language": "python",
   "name": "conda-base-py"
  },
  "language_info": {
   "codemirror_mode": {
    "name": "ipython",
    "version": 3
   },
   "file_extension": ".py",
   "mimetype": "text/x-python",
   "name": "python",
   "nbconvert_exporter": "python",
   "pygments_lexer": "ipython3",
   "version": "3.13.5"
  }
 },
 "nbformat": 4,
 "nbformat_minor": 5
}
